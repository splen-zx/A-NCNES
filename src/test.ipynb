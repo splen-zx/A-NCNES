{
 "cells": [
  {
   "cell_type": "code",
   "execution_count": null,
   "id": "initial_id",
   "metadata": {
    "collapsed": true
   },
   "outputs": [],
   "source": [
    "import gymnasium as gym\n",
    "from gymnasium.wrappers import AtariPreprocessing, FrameStack\n",
    "import matplotlib.pyplot as plt\n",
    "\n"
   ]
  },
  {
   "cell_type": "code",
   "execution_count": 11,
   "outputs": [
    {
     "name": "stdout",
     "output_type": "stream",
     "text": [
      "(<gymnasium.wrappers.frame_stack.LazyFrames object at 0x7f25fa1a3e70>, {'lives': 0, 'episode_frame_number': 9, 'frame_number': 9})\n",
      "<gymnasium.wrappers.frame_stack.LazyFrames object at 0x7f25f7f57100>\n"
     ]
    }
   ],
   "source": [
    "env = gym.make('PongNoFrameskip-v4')\n",
    "env = AtariPreprocessing(env,\n",
    "                         scale_obs=False,\n",
    "                         terminal_on_life_loss=True,\n",
    "                         )\n",
    "env = FrameStack(env, num_stack=4)\n",
    "n_actions = env.action_space.n\n",
    "state_dim = env.observation_space.shape\n",
    "\n",
    "# env.render()\n",
    "test = env.reset()\n",
    "print(test)\n",
    "for i in range(100):\n",
    "    test = env.step(env.action_space.sample())[0]\n",
    "\n",
    "print(test)"
   ],
   "metadata": {
    "collapsed": false,
    "ExecuteTime": {
     "end_time": "2024-09-29T12:53:43.173054900Z",
     "start_time": "2024-09-29T12:53:43.067578100Z"
    }
   },
   "id": "3b21d3f48e4e1a2e"
  },
  {
   "cell_type": "code",
   "execution_count": null,
   "outputs": [],
   "source": [
    "\n",
    "\n",
    "plt.imshow(test.__array__()[0,...])"
   ],
   "metadata": {
    "collapsed": false
   },
   "id": "40ac5fe182511752"
  }
 ],
 "metadata": {
  "kernelspec": {
   "display_name": "Python 3",
   "language": "python",
   "name": "python3"
  },
  "language_info": {
   "codemirror_mode": {
    "name": "ipython",
    "version": 2
   },
   "file_extension": ".py",
   "mimetype": "text/x-python",
   "name": "python",
   "nbconvert_exporter": "python",
   "pygments_lexer": "ipython2",
   "version": "2.7.6"
  }
 },
 "nbformat": 4,
 "nbformat_minor": 5
}
